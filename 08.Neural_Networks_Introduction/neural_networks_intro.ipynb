{
 "cells": [
  {
   "cell_type": "code",
   "execution_count": 1,
   "id": "270bfb2b",
   "metadata": {},
   "outputs": [],
   "source": [
    "%matplotlib inline"
   ]
  },
  {
   "cell_type": "code",
   "execution_count": 2,
   "id": "4ce12d8f",
   "metadata": {},
   "outputs": [],
   "source": [
    "import pandas as pd\n",
    "import numpy as np\n",
    "import matplotlib.pyplot as plt\n",
    "\n",
    "from sklearn.neural_network import MLPClassifier, MLPRegressor\n",
    "\n",
    "from skimage.io import imread\n",
    "from sklearn.datasets import load_digits\n",
    "\n",
    "import tensorflow as tf\n",
    "from tensorflow.keras import layers# Neural network with pre-defined building blocks\n",
    "from tensorflow.keras.models import Sequential\n",
    "from tensorflow.keras.layers import Dense, Input"
   ]
  },
  {
   "cell_type": "code",
   "execution_count": 3,
   "id": "af4a119d",
   "metadata": {},
   "outputs": [
    {
     "data": {
      "text/plain": [
       "(1797, 64)"
      ]
     },
     "execution_count": 3,
     "metadata": {},
     "output_type": "execute_result"
    }
   ],
   "source": [
    "load_digits().data.shape"
   ]
  },
  {
   "cell_type": "markdown",
   "id": "949a8679",
   "metadata": {},
   "source": [
    "# Introduction to Neural Networks"
   ]
  },
  {
   "cell_type": "code",
   "execution_count": 4,
   "id": "c38d6405",
   "metadata": {},
   "outputs": [
    {
     "data": {
      "text/plain": [
       "'2.11.0'"
      ]
     },
     "execution_count": 4,
     "metadata": {},
     "output_type": "execute_result"
    }
   ],
   "source": [
    "tf.__version__"
   ]
  },
  {
   "cell_type": "code",
   "execution_count": 5,
   "id": "4d7026e0",
   "metadata": {},
   "outputs": [],
   "source": [
    "keras_nn = Sequential([\n",
    "    Input(10), # Dimensions\n",
    "    Dense(10), # Number of classes\n",
    "    Dense(12)\n",
    "])"
   ]
  },
  {
   "cell_type": "code",
   "execution_count": 6,
   "id": "15d398ec",
   "metadata": {},
   "outputs": [
    {
     "name": "stdout",
     "output_type": "stream",
     "text": [
      "Model: \"sequential\"\n",
      "_________________________________________________________________\n",
      " Layer (type)                Output Shape              Param #   \n",
      "=================================================================\n",
      " dense (Dense)               (None, 10)                110       \n",
      "                                                                 \n",
      " dense_1 (Dense)             (None, 12)                132       \n",
      "                                                                 \n",
      "=================================================================\n",
      "Total params: 242\n",
      "Trainable params: 242\n",
      "Non-trainable params: 0\n",
      "_________________________________________________________________\n"
     ]
    }
   ],
   "source": [
    "keras_nn.summary()\n"
   ]
  },
  {
   "cell_type": "markdown",
   "id": "49b5d08a",
   "metadata": {},
   "source": [
    "### keras_nn(loss=\"sparse_categorical_crossentropy\", optimizer=\"adam\")\n",
    "### keras_nn.fit(train_x_vectors, train_y, epochs=500) # np.arrays not lists, fits from previous state\n",
    "### keras_nn.evaluate(train_x_vectors, np.array(train_classes)) # The loss function\n",
    "\n",
    "\n",
    "### =============================================================================================\n",
    "\n",
    "### keras_nn(loss=\"sparse_categorical_crossentropy\", optimizer=\"adam\", metrics = [\"accuracy\"]) # Accuracy of the model\n",
    "### keras_nn.fit(train_x_vectors, train_y, epochs=500, validation_split = 0.1) # Validation with 10% of data\n",
    "### keras_nn.evaluate(train_x_vectors, np.array(train_classes))\n",
    "\n"
   ]
  },
  {
   "cell_type": "code",
   "execution_count": null,
   "id": "5608d5e0",
   "metadata": {},
   "outputs": [],
   "source": []
  }
 ],
 "metadata": {
  "kernelspec": {
   "display_name": "Python 3 (ipykernel)",
   "language": "python",
   "name": "python3"
  },
  "language_info": {
   "codemirror_mode": {
    "name": "ipython",
    "version": 3
   },
   "file_extension": ".py",
   "mimetype": "text/x-python",
   "name": "python",
   "nbconvert_exporter": "python",
   "pygments_lexer": "ipython3",
   "version": "3.9.13"
  }
 },
 "nbformat": 4,
 "nbformat_minor": 5
}
