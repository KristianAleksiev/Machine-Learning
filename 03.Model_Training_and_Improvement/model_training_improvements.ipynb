{
 "cells": [
  {
   "cell_type": "code",
   "execution_count": 1,
   "id": "c70477f5",
   "metadata": {},
   "outputs": [],
   "source": [
    "%matplotlib inline"
   ]
  },
  {
   "cell_type": "code",
   "execution_count": 9,
   "id": "95f5ce36",
   "metadata": {},
   "outputs": [],
   "source": [
    "import numpy as np\n",
    "import pandas as pd\n",
    "import matplotlib.pyplot as plt\n",
    "from sklearn.linear_model import LinearRegression, LogisticRegression\n",
    "## Linear Regression with regularization - Ridge regression\n",
    "from sklearn.linear_model import Ridge\n",
    "\n",
    "## Linear Regression with LASSO ( Least absolute shrinkage and selection operator - L1) - LASSO Regression\n",
    "from sklearn.linear_model import Lasso\n",
    "\n",
    "## Linear Regression with Elastic Net - (Both regularizations)\n",
    "from sklearn.linear_model import ElasticNet\n",
    "\n",
    "## Train and test\n",
    "from sklearn.model_selection import train_test_split, GridSearchCV\n",
    "\n",
    "from sklearn.metrics import classification_report, plot_roc_curve"
   ]
  },
  {
   "cell_type": "markdown",
   "id": "33e06aca",
   "metadata": {},
   "source": [
    "# Model training "
   ]
  },
  {
   "cell_type": "code",
   "execution_count": 5,
   "id": "742a5ae1",
   "metadata": {},
   "outputs": [],
   "source": [
    "#Ridge\n",
    "model = Ridge(alpha=0.01)\n",
    "\n",
    "#Lasso\n",
    "model = Lasso(alpha=0.01)\n",
    "\n",
    "#Elastic Net\n",
    "model = ElasticNet(alpha=1.0, l1_ratio=0.5)"
   ]
  },
  {
   "cell_type": "code",
   "execution_count": null,
   "id": "6c7e9c30",
   "metadata": {},
   "outputs": [],
   "source": []
  },
  {
   "cell_type": "code",
   "execution_count": null,
   "id": "3aaad43a",
   "metadata": {},
   "outputs": [],
   "source": []
  },
  {
   "cell_type": "code",
   "execution_count": null,
   "id": "ead294c5",
   "metadata": {},
   "outputs": [],
   "source": []
  },
  {
   "cell_type": "code",
   "execution_count": null,
   "id": "39f8a1d9",
   "metadata": {},
   "outputs": [],
   "source": []
  }
 ],
 "metadata": {
  "kernelspec": {
   "display_name": "Python 3 (ipykernel)",
   "language": "python",
   "name": "python3"
  },
  "language_info": {
   "codemirror_mode": {
    "name": "ipython",
    "version": 3
   },
   "file_extension": ".py",
   "mimetype": "text/x-python",
   "name": "python",
   "nbconvert_exporter": "python",
   "pygments_lexer": "ipython3",
   "version": "3.9.13"
  }
 },
 "nbformat": 4,
 "nbformat_minor": 5
}
